{
  "nbformat": 4,
  "nbformat_minor": 0,
  "metadata": {
    "colab": {
      "name": "Model_Version2.ipynb",
      "provenance": []
    },
    "kernelspec": {
      "name": "python3",
      "display_name": "Python 3"
    },
    "language_info": {
      "name": "python"
    },
    "widgets": {
      "application/vnd.jupyter.widget-state+json": {
        "356a032f2f544791bbc3dc313e6f8cd8": {
          "model_module": "@jupyter-widgets/controls",
          "model_name": "HBoxModel",
          "model_module_version": "1.5.0",
          "state": {
            "_view_name": "HBoxView",
            "_dom_classes": [],
            "_model_name": "HBoxModel",
            "_view_module": "@jupyter-widgets/controls",
            "_model_module_version": "1.5.0",
            "_view_count": null,
            "_view_module_version": "1.5.0",
            "box_style": "",
            "layout": "IPY_MODEL_9f2377f9b42d4884a22a73f462c87137",
            "_model_module": "@jupyter-widgets/controls",
            "children": [
              "IPY_MODEL_53a712baa0b14c20b39c72590580a281",
              "IPY_MODEL_684d49a1222f4d07a762fe7a59a13c09",
              "IPY_MODEL_a3e7ddf2341c42989af7c9c505281a5e"
            ]
          }
        },
        "9f2377f9b42d4884a22a73f462c87137": {
          "model_module": "@jupyter-widgets/base",
          "model_name": "LayoutModel",
          "model_module_version": "1.2.0",
          "state": {
            "_view_name": "LayoutView",
            "grid_template_rows": null,
            "right": null,
            "justify_content": null,
            "_view_module": "@jupyter-widgets/base",
            "overflow": null,
            "_model_module_version": "1.2.0",
            "_view_count": null,
            "flex_flow": null,
            "width": null,
            "min_width": null,
            "border": null,
            "align_items": null,
            "bottom": null,
            "_model_module": "@jupyter-widgets/base",
            "top": null,
            "grid_column": null,
            "overflow_y": null,
            "overflow_x": null,
            "grid_auto_flow": null,
            "grid_area": null,
            "grid_template_columns": null,
            "flex": null,
            "_model_name": "LayoutModel",
            "justify_items": null,
            "grid_row": null,
            "max_height": null,
            "align_content": null,
            "visibility": null,
            "align_self": null,
            "height": null,
            "min_height": null,
            "padding": null,
            "grid_auto_rows": null,
            "grid_gap": null,
            "max_width": null,
            "order": null,
            "_view_module_version": "1.2.0",
            "grid_template_areas": null,
            "object_position": null,
            "object_fit": null,
            "grid_auto_columns": null,
            "margin": null,
            "display": null,
            "left": null
          }
        },
        "53a712baa0b14c20b39c72590580a281": {
          "model_module": "@jupyter-widgets/controls",
          "model_name": "HTMLModel",
          "model_module_version": "1.5.0",
          "state": {
            "_view_name": "HTMLView",
            "style": "IPY_MODEL_c845ad5933724e86898c5a19ceb7350d",
            "_dom_classes": [],
            "description": "",
            "_model_name": "HTMLModel",
            "placeholder": "​",
            "_view_module": "@jupyter-widgets/controls",
            "_model_module_version": "1.5.0",
            "value": "Downloading: 100%",
            "_view_count": null,
            "_view_module_version": "1.5.0",
            "description_tooltip": null,
            "_model_module": "@jupyter-widgets/controls",
            "layout": "IPY_MODEL_82cf2448b5754eae93704e5cabde15db"
          }
        },
        "684d49a1222f4d07a762fe7a59a13c09": {
          "model_module": "@jupyter-widgets/controls",
          "model_name": "FloatProgressModel",
          "model_module_version": "1.5.0",
          "state": {
            "_view_name": "ProgressView",
            "style": "IPY_MODEL_666db0e20def451ea99b0389df185093",
            "_dom_classes": [],
            "description": "",
            "_model_name": "FloatProgressModel",
            "bar_style": "success",
            "max": 231508,
            "_view_module": "@jupyter-widgets/controls",
            "_model_module_version": "1.5.0",
            "value": 231508,
            "_view_count": null,
            "_view_module_version": "1.5.0",
            "orientation": "horizontal",
            "min": 0,
            "description_tooltip": null,
            "_model_module": "@jupyter-widgets/controls",
            "layout": "IPY_MODEL_3f01e3eeb0e749ee9f6e17bbbd77955a"
          }
        },
        "a3e7ddf2341c42989af7c9c505281a5e": {
          "model_module": "@jupyter-widgets/controls",
          "model_name": "HTMLModel",
          "model_module_version": "1.5.0",
          "state": {
            "_view_name": "HTMLView",
            "style": "IPY_MODEL_334640656d874d82a7c16220fb22961c",
            "_dom_classes": [],
            "description": "",
            "_model_name": "HTMLModel",
            "placeholder": "​",
            "_view_module": "@jupyter-widgets/controls",
            "_model_module_version": "1.5.0",
            "value": " 226k/226k [00:00&lt;00:00, 659kB/s]",
            "_view_count": null,
            "_view_module_version": "1.5.0",
            "description_tooltip": null,
            "_model_module": "@jupyter-widgets/controls",
            "layout": "IPY_MODEL_03c7326225f04e7d8842cd923230c264"
          }
        },
        "c845ad5933724e86898c5a19ceb7350d": {
          "model_module": "@jupyter-widgets/controls",
          "model_name": "DescriptionStyleModel",
          "model_module_version": "1.5.0",
          "state": {
            "_view_name": "StyleView",
            "_model_name": "DescriptionStyleModel",
            "description_width": "",
            "_view_module": "@jupyter-widgets/base",
            "_model_module_version": "1.5.0",
            "_view_count": null,
            "_view_module_version": "1.2.0",
            "_model_module": "@jupyter-widgets/controls"
          }
        },
        "82cf2448b5754eae93704e5cabde15db": {
          "model_module": "@jupyter-widgets/base",
          "model_name": "LayoutModel",
          "model_module_version": "1.2.0",
          "state": {
            "_view_name": "LayoutView",
            "grid_template_rows": null,
            "right": null,
            "justify_content": null,
            "_view_module": "@jupyter-widgets/base",
            "overflow": null,
            "_model_module_version": "1.2.0",
            "_view_count": null,
            "flex_flow": null,
            "width": null,
            "min_width": null,
            "border": null,
            "align_items": null,
            "bottom": null,
            "_model_module": "@jupyter-widgets/base",
            "top": null,
            "grid_column": null,
            "overflow_y": null,
            "overflow_x": null,
            "grid_auto_flow": null,
            "grid_area": null,
            "grid_template_columns": null,
            "flex": null,
            "_model_name": "LayoutModel",
            "justify_items": null,
            "grid_row": null,
            "max_height": null,
            "align_content": null,
            "visibility": null,
            "align_self": null,
            "height": null,
            "min_height": null,
            "padding": null,
            "grid_auto_rows": null,
            "grid_gap": null,
            "max_width": null,
            "order": null,
            "_view_module_version": "1.2.0",
            "grid_template_areas": null,
            "object_position": null,
            "object_fit": null,
            "grid_auto_columns": null,
            "margin": null,
            "display": null,
            "left": null
          }
        },
        "666db0e20def451ea99b0389df185093": {
          "model_module": "@jupyter-widgets/controls",
          "model_name": "ProgressStyleModel",
          "model_module_version": "1.5.0",
          "state": {
            "_view_name": "StyleView",
            "_model_name": "ProgressStyleModel",
            "description_width": "",
            "_view_module": "@jupyter-widgets/base",
            "_model_module_version": "1.5.0",
            "_view_count": null,
            "_view_module_version": "1.2.0",
            "bar_color": null,
            "_model_module": "@jupyter-widgets/controls"
          }
        },
        "3f01e3eeb0e749ee9f6e17bbbd77955a": {
          "model_module": "@jupyter-widgets/base",
          "model_name": "LayoutModel",
          "model_module_version": "1.2.0",
          "state": {
            "_view_name": "LayoutView",
            "grid_template_rows": null,
            "right": null,
            "justify_content": null,
            "_view_module": "@jupyter-widgets/base",
            "overflow": null,
            "_model_module_version": "1.2.0",
            "_view_count": null,
            "flex_flow": null,
            "width": null,
            "min_width": null,
            "border": null,
            "align_items": null,
            "bottom": null,
            "_model_module": "@jupyter-widgets/base",
            "top": null,
            "grid_column": null,
            "overflow_y": null,
            "overflow_x": null,
            "grid_auto_flow": null,
            "grid_area": null,
            "grid_template_columns": null,
            "flex": null,
            "_model_name": "LayoutModel",
            "justify_items": null,
            "grid_row": null,
            "max_height": null,
            "align_content": null,
            "visibility": null,
            "align_self": null,
            "height": null,
            "min_height": null,
            "padding": null,
            "grid_auto_rows": null,
            "grid_gap": null,
            "max_width": null,
            "order": null,
            "_view_module_version": "1.2.0",
            "grid_template_areas": null,
            "object_position": null,
            "object_fit": null,
            "grid_auto_columns": null,
            "margin": null,
            "display": null,
            "left": null
          }
        },
        "334640656d874d82a7c16220fb22961c": {
          "model_module": "@jupyter-widgets/controls",
          "model_name": "DescriptionStyleModel",
          "model_module_version": "1.5.0",
          "state": {
            "_view_name": "StyleView",
            "_model_name": "DescriptionStyleModel",
            "description_width": "",
            "_view_module": "@jupyter-widgets/base",
            "_model_module_version": "1.5.0",
            "_view_count": null,
            "_view_module_version": "1.2.0",
            "_model_module": "@jupyter-widgets/controls"
          }
        },
        "03c7326225f04e7d8842cd923230c264": {
          "model_module": "@jupyter-widgets/base",
          "model_name": "LayoutModel",
          "model_module_version": "1.2.0",
          "state": {
            "_view_name": "LayoutView",
            "grid_template_rows": null,
            "right": null,
            "justify_content": null,
            "_view_module": "@jupyter-widgets/base",
            "overflow": null,
            "_model_module_version": "1.2.0",
            "_view_count": null,
            "flex_flow": null,
            "width": null,
            "min_width": null,
            "border": null,
            "align_items": null,
            "bottom": null,
            "_model_module": "@jupyter-widgets/base",
            "top": null,
            "grid_column": null,
            "overflow_y": null,
            "overflow_x": null,
            "grid_auto_flow": null,
            "grid_area": null,
            "grid_template_columns": null,
            "flex": null,
            "_model_name": "LayoutModel",
            "justify_items": null,
            "grid_row": null,
            "max_height": null,
            "align_content": null,
            "visibility": null,
            "align_self": null,
            "height": null,
            "min_height": null,
            "padding": null,
            "grid_auto_rows": null,
            "grid_gap": null,
            "max_width": null,
            "order": null,
            "_view_module_version": "1.2.0",
            "grid_template_areas": null,
            "object_position": null,
            "object_fit": null,
            "grid_auto_columns": null,
            "margin": null,
            "display": null,
            "left": null
          }
        },
        "afd1d098e33e41d48dc2e6e4dd93cea9": {
          "model_module": "@jupyter-widgets/controls",
          "model_name": "HBoxModel",
          "model_module_version": "1.5.0",
          "state": {
            "_view_name": "HBoxView",
            "_dom_classes": [],
            "_model_name": "HBoxModel",
            "_view_module": "@jupyter-widgets/controls",
            "_model_module_version": "1.5.0",
            "_view_count": null,
            "_view_module_version": "1.5.0",
            "box_style": "",
            "layout": "IPY_MODEL_23be4603cfbc4559ab5bfabd447747d4",
            "_model_module": "@jupyter-widgets/controls",
            "children": [
              "IPY_MODEL_15325ba622bd443a9928092d6deac8d8",
              "IPY_MODEL_9662e6c2ed984dc9a18b3e0cdeaabeba",
              "IPY_MODEL_fb665cc1a6a04d8085371c8243b17422"
            ]
          }
        },
        "23be4603cfbc4559ab5bfabd447747d4": {
          "model_module": "@jupyter-widgets/base",
          "model_name": "LayoutModel",
          "model_module_version": "1.2.0",
          "state": {
            "_view_name": "LayoutView",
            "grid_template_rows": null,
            "right": null,
            "justify_content": null,
            "_view_module": "@jupyter-widgets/base",
            "overflow": null,
            "_model_module_version": "1.2.0",
            "_view_count": null,
            "flex_flow": null,
            "width": null,
            "min_width": null,
            "border": null,
            "align_items": null,
            "bottom": null,
            "_model_module": "@jupyter-widgets/base",
            "top": null,
            "grid_column": null,
            "overflow_y": null,
            "overflow_x": null,
            "grid_auto_flow": null,
            "grid_area": null,
            "grid_template_columns": null,
            "flex": null,
            "_model_name": "LayoutModel",
            "justify_items": null,
            "grid_row": null,
            "max_height": null,
            "align_content": null,
            "visibility": null,
            "align_self": null,
            "height": null,
            "min_height": null,
            "padding": null,
            "grid_auto_rows": null,
            "grid_gap": null,
            "max_width": null,
            "order": null,
            "_view_module_version": "1.2.0",
            "grid_template_areas": null,
            "object_position": null,
            "object_fit": null,
            "grid_auto_columns": null,
            "margin": null,
            "display": null,
            "left": null
          }
        },
        "15325ba622bd443a9928092d6deac8d8": {
          "model_module": "@jupyter-widgets/controls",
          "model_name": "HTMLModel",
          "model_module_version": "1.5.0",
          "state": {
            "_view_name": "HTMLView",
            "style": "IPY_MODEL_e511e55c834b4d6eb36c6519fdeb9b4e",
            "_dom_classes": [],
            "description": "",
            "_model_name": "HTMLModel",
            "placeholder": "​",
            "_view_module": "@jupyter-widgets/controls",
            "_model_module_version": "1.5.0",
            "value": "Downloading: 100%",
            "_view_count": null,
            "_view_module_version": "1.5.0",
            "description_tooltip": null,
            "_model_module": "@jupyter-widgets/controls",
            "layout": "IPY_MODEL_d0cb0fe52a9b4284aa694b0ecee6493a"
          }
        },
        "9662e6c2ed984dc9a18b3e0cdeaabeba": {
          "model_module": "@jupyter-widgets/controls",
          "model_name": "FloatProgressModel",
          "model_module_version": "1.5.0",
          "state": {
            "_view_name": "ProgressView",
            "style": "IPY_MODEL_2cc9495d41d442a99a0c49d5854ae259",
            "_dom_classes": [],
            "description": "",
            "_model_name": "FloatProgressModel",
            "bar_style": "success",
            "max": 28,
            "_view_module": "@jupyter-widgets/controls",
            "_model_module_version": "1.5.0",
            "value": 28,
            "_view_count": null,
            "_view_module_version": "1.5.0",
            "orientation": "horizontal",
            "min": 0,
            "description_tooltip": null,
            "_model_module": "@jupyter-widgets/controls",
            "layout": "IPY_MODEL_90a0acfc97a1469ba83ec81416b06d37"
          }
        },
        "fb665cc1a6a04d8085371c8243b17422": {
          "model_module": "@jupyter-widgets/controls",
          "model_name": "HTMLModel",
          "model_module_version": "1.5.0",
          "state": {
            "_view_name": "HTMLView",
            "style": "IPY_MODEL_8d09a77237704577bc7062fde4a13975",
            "_dom_classes": [],
            "description": "",
            "_model_name": "HTMLModel",
            "placeholder": "​",
            "_view_module": "@jupyter-widgets/controls",
            "_model_module_version": "1.5.0",
            "value": " 28.0/28.0 [00:00&lt;00:00, 670B/s]",
            "_view_count": null,
            "_view_module_version": "1.5.0",
            "description_tooltip": null,
            "_model_module": "@jupyter-widgets/controls",
            "layout": "IPY_MODEL_1da25520b9a64a3eb9dbef7fb4e48127"
          }
        },
        "e511e55c834b4d6eb36c6519fdeb9b4e": {
          "model_module": "@jupyter-widgets/controls",
          "model_name": "DescriptionStyleModel",
          "model_module_version": "1.5.0",
          "state": {
            "_view_name": "StyleView",
            "_model_name": "DescriptionStyleModel",
            "description_width": "",
            "_view_module": "@jupyter-widgets/base",
            "_model_module_version": "1.5.0",
            "_view_count": null,
            "_view_module_version": "1.2.0",
            "_model_module": "@jupyter-widgets/controls"
          }
        },
        "d0cb0fe52a9b4284aa694b0ecee6493a": {
          "model_module": "@jupyter-widgets/base",
          "model_name": "LayoutModel",
          "model_module_version": "1.2.0",
          "state": {
            "_view_name": "LayoutView",
            "grid_template_rows": null,
            "right": null,
            "justify_content": null,
            "_view_module": "@jupyter-widgets/base",
            "overflow": null,
            "_model_module_version": "1.2.0",
            "_view_count": null,
            "flex_flow": null,
            "width": null,
            "min_width": null,
            "border": null,
            "align_items": null,
            "bottom": null,
            "_model_module": "@jupyter-widgets/base",
            "top": null,
            "grid_column": null,
            "overflow_y": null,
            "overflow_x": null,
            "grid_auto_flow": null,
            "grid_area": null,
            "grid_template_columns": null,
            "flex": null,
            "_model_name": "LayoutModel",
            "justify_items": null,
            "grid_row": null,
            "max_height": null,
            "align_content": null,
            "visibility": null,
            "align_self": null,
            "height": null,
            "min_height": null,
            "padding": null,
            "grid_auto_rows": null,
            "grid_gap": null,
            "max_width": null,
            "order": null,
            "_view_module_version": "1.2.0",
            "grid_template_areas": null,
            "object_position": null,
            "object_fit": null,
            "grid_auto_columns": null,
            "margin": null,
            "display": null,
            "left": null
          }
        },
        "2cc9495d41d442a99a0c49d5854ae259": {
          "model_module": "@jupyter-widgets/controls",
          "model_name": "ProgressStyleModel",
          "model_module_version": "1.5.0",
          "state": {
            "_view_name": "StyleView",
            "_model_name": "ProgressStyleModel",
            "description_width": "",
            "_view_module": "@jupyter-widgets/base",
            "_model_module_version": "1.5.0",
            "_view_count": null,
            "_view_module_version": "1.2.0",
            "bar_color": null,
            "_model_module": "@jupyter-widgets/controls"
          }
        },
        "90a0acfc97a1469ba83ec81416b06d37": {
          "model_module": "@jupyter-widgets/base",
          "model_name": "LayoutModel",
          "model_module_version": "1.2.0",
          "state": {
            "_view_name": "LayoutView",
            "grid_template_rows": null,
            "right": null,
            "justify_content": null,
            "_view_module": "@jupyter-widgets/base",
            "overflow": null,
            "_model_module_version": "1.2.0",
            "_view_count": null,
            "flex_flow": null,
            "width": null,
            "min_width": null,
            "border": null,
            "align_items": null,
            "bottom": null,
            "_model_module": "@jupyter-widgets/base",
            "top": null,
            "grid_column": null,
            "overflow_y": null,
            "overflow_x": null,
            "grid_auto_flow": null,
            "grid_area": null,
            "grid_template_columns": null,
            "flex": null,
            "_model_name": "LayoutModel",
            "justify_items": null,
            "grid_row": null,
            "max_height": null,
            "align_content": null,
            "visibility": null,
            "align_self": null,
            "height": null,
            "min_height": null,
            "padding": null,
            "grid_auto_rows": null,
            "grid_gap": null,
            "max_width": null,
            "order": null,
            "_view_module_version": "1.2.0",
            "grid_template_areas": null,
            "object_position": null,
            "object_fit": null,
            "grid_auto_columns": null,
            "margin": null,
            "display": null,
            "left": null
          }
        },
        "8d09a77237704577bc7062fde4a13975": {
          "model_module": "@jupyter-widgets/controls",
          "model_name": "DescriptionStyleModel",
          "model_module_version": "1.5.0",
          "state": {
            "_view_name": "StyleView",
            "_model_name": "DescriptionStyleModel",
            "description_width": "",
            "_view_module": "@jupyter-widgets/base",
            "_model_module_version": "1.5.0",
            "_view_count": null,
            "_view_module_version": "1.2.0",
            "_model_module": "@jupyter-widgets/controls"
          }
        },
        "1da25520b9a64a3eb9dbef7fb4e48127": {
          "model_module": "@jupyter-widgets/base",
          "model_name": "LayoutModel",
          "model_module_version": "1.2.0",
          "state": {
            "_view_name": "LayoutView",
            "grid_template_rows": null,
            "right": null,
            "justify_content": null,
            "_view_module": "@jupyter-widgets/base",
            "overflow": null,
            "_model_module_version": "1.2.0",
            "_view_count": null,
            "flex_flow": null,
            "width": null,
            "min_width": null,
            "border": null,
            "align_items": null,
            "bottom": null,
            "_model_module": "@jupyter-widgets/base",
            "top": null,
            "grid_column": null,
            "overflow_y": null,
            "overflow_x": null,
            "grid_auto_flow": null,
            "grid_area": null,
            "grid_template_columns": null,
            "flex": null,
            "_model_name": "LayoutModel",
            "justify_items": null,
            "grid_row": null,
            "max_height": null,
            "align_content": null,
            "visibility": null,
            "align_self": null,
            "height": null,
            "min_height": null,
            "padding": null,
            "grid_auto_rows": null,
            "grid_gap": null,
            "max_width": null,
            "order": null,
            "_view_module_version": "1.2.0",
            "grid_template_areas": null,
            "object_position": null,
            "object_fit": null,
            "grid_auto_columns": null,
            "margin": null,
            "display": null,
            "left": null
          }
        },
        "22fc56d3fe9149f99323eed39f1157b7": {
          "model_module": "@jupyter-widgets/controls",
          "model_name": "HBoxModel",
          "model_module_version": "1.5.0",
          "state": {
            "_view_name": "HBoxView",
            "_dom_classes": [],
            "_model_name": "HBoxModel",
            "_view_module": "@jupyter-widgets/controls",
            "_model_module_version": "1.5.0",
            "_view_count": null,
            "_view_module_version": "1.5.0",
            "box_style": "",
            "layout": "IPY_MODEL_b4f721789e9e4a6a9b5af1e80b3c7554",
            "_model_module": "@jupyter-widgets/controls",
            "children": [
              "IPY_MODEL_8fb91b0041af44199f042daf3cd818ba",
              "IPY_MODEL_4cd80e3e83b746c281346d6a9ccb1dd7",
              "IPY_MODEL_9dc5c95816104967a1af3caacba0159e"
            ]
          }
        },
        "b4f721789e9e4a6a9b5af1e80b3c7554": {
          "model_module": "@jupyter-widgets/base",
          "model_name": "LayoutModel",
          "model_module_version": "1.2.0",
          "state": {
            "_view_name": "LayoutView",
            "grid_template_rows": null,
            "right": null,
            "justify_content": null,
            "_view_module": "@jupyter-widgets/base",
            "overflow": null,
            "_model_module_version": "1.2.0",
            "_view_count": null,
            "flex_flow": null,
            "width": null,
            "min_width": null,
            "border": null,
            "align_items": null,
            "bottom": null,
            "_model_module": "@jupyter-widgets/base",
            "top": null,
            "grid_column": null,
            "overflow_y": null,
            "overflow_x": null,
            "grid_auto_flow": null,
            "grid_area": null,
            "grid_template_columns": null,
            "flex": null,
            "_model_name": "LayoutModel",
            "justify_items": null,
            "grid_row": null,
            "max_height": null,
            "align_content": null,
            "visibility": null,
            "align_self": null,
            "height": null,
            "min_height": null,
            "padding": null,
            "grid_auto_rows": null,
            "grid_gap": null,
            "max_width": null,
            "order": null,
            "_view_module_version": "1.2.0",
            "grid_template_areas": null,
            "object_position": null,
            "object_fit": null,
            "grid_auto_columns": null,
            "margin": null,
            "display": null,
            "left": null
          }
        },
        "8fb91b0041af44199f042daf3cd818ba": {
          "model_module": "@jupyter-widgets/controls",
          "model_name": "HTMLModel",
          "model_module_version": "1.5.0",
          "state": {
            "_view_name": "HTMLView",
            "style": "IPY_MODEL_658c12c5e937437893d210ce7151e863",
            "_dom_classes": [],
            "description": "",
            "_model_name": "HTMLModel",
            "placeholder": "​",
            "_view_module": "@jupyter-widgets/controls",
            "_model_module_version": "1.5.0",
            "value": "Downloading: 100%",
            "_view_count": null,
            "_view_module_version": "1.5.0",
            "description_tooltip": null,
            "_model_module": "@jupyter-widgets/controls",
            "layout": "IPY_MODEL_22590508947d48ee90e5e9b58716745a"
          }
        },
        "4cd80e3e83b746c281346d6a9ccb1dd7": {
          "model_module": "@jupyter-widgets/controls",
          "model_name": "FloatProgressModel",
          "model_module_version": "1.5.0",
          "state": {
            "_view_name": "ProgressView",
            "style": "IPY_MODEL_54d2a59d631c40d5b14ab7bfc0bbcb1d",
            "_dom_classes": [],
            "description": "",
            "_model_name": "FloatProgressModel",
            "bar_style": "success",
            "max": 466062,
            "_view_module": "@jupyter-widgets/controls",
            "_model_module_version": "1.5.0",
            "value": 466062,
            "_view_count": null,
            "_view_module_version": "1.5.0",
            "orientation": "horizontal",
            "min": 0,
            "description_tooltip": null,
            "_model_module": "@jupyter-widgets/controls",
            "layout": "IPY_MODEL_748c1e454b3842ecb3ff469bd898862a"
          }
        },
        "9dc5c95816104967a1af3caacba0159e": {
          "model_module": "@jupyter-widgets/controls",
          "model_name": "HTMLModel",
          "model_module_version": "1.5.0",
          "state": {
            "_view_name": "HTMLView",
            "style": "IPY_MODEL_ae3e1857323d470c83530fc43ce2f574",
            "_dom_classes": [],
            "description": "",
            "_model_name": "HTMLModel",
            "placeholder": "​",
            "_view_module": "@jupyter-widgets/controls",
            "_model_module_version": "1.5.0",
            "value": " 455k/455k [00:00&lt;00:00, 841kB/s]",
            "_view_count": null,
            "_view_module_version": "1.5.0",
            "description_tooltip": null,
            "_model_module": "@jupyter-widgets/controls",
            "layout": "IPY_MODEL_109f3792a2cc49bb862db89516be7a5f"
          }
        },
        "658c12c5e937437893d210ce7151e863": {
          "model_module": "@jupyter-widgets/controls",
          "model_name": "DescriptionStyleModel",
          "model_module_version": "1.5.0",
          "state": {
            "_view_name": "StyleView",
            "_model_name": "DescriptionStyleModel",
            "description_width": "",
            "_view_module": "@jupyter-widgets/base",
            "_model_module_version": "1.5.0",
            "_view_count": null,
            "_view_module_version": "1.2.0",
            "_model_module": "@jupyter-widgets/controls"
          }
        },
        "22590508947d48ee90e5e9b58716745a": {
          "model_module": "@jupyter-widgets/base",
          "model_name": "LayoutModel",
          "model_module_version": "1.2.0",
          "state": {
            "_view_name": "LayoutView",
            "grid_template_rows": null,
            "right": null,
            "justify_content": null,
            "_view_module": "@jupyter-widgets/base",
            "overflow": null,
            "_model_module_version": "1.2.0",
            "_view_count": null,
            "flex_flow": null,
            "width": null,
            "min_width": null,
            "border": null,
            "align_items": null,
            "bottom": null,
            "_model_module": "@jupyter-widgets/base",
            "top": null,
            "grid_column": null,
            "overflow_y": null,
            "overflow_x": null,
            "grid_auto_flow": null,
            "grid_area": null,
            "grid_template_columns": null,
            "flex": null,
            "_model_name": "LayoutModel",
            "justify_items": null,
            "grid_row": null,
            "max_height": null,
            "align_content": null,
            "visibility": null,
            "align_self": null,
            "height": null,
            "min_height": null,
            "padding": null,
            "grid_auto_rows": null,
            "grid_gap": null,
            "max_width": null,
            "order": null,
            "_view_module_version": "1.2.0",
            "grid_template_areas": null,
            "object_position": null,
            "object_fit": null,
            "grid_auto_columns": null,
            "margin": null,
            "display": null,
            "left": null
          }
        },
        "54d2a59d631c40d5b14ab7bfc0bbcb1d": {
          "model_module": "@jupyter-widgets/controls",
          "model_name": "ProgressStyleModel",
          "model_module_version": "1.5.0",
          "state": {
            "_view_name": "StyleView",
            "_model_name": "ProgressStyleModel",
            "description_width": "",
            "_view_module": "@jupyter-widgets/base",
            "_model_module_version": "1.5.0",
            "_view_count": null,
            "_view_module_version": "1.2.0",
            "bar_color": null,
            "_model_module": "@jupyter-widgets/controls"
          }
        },
        "748c1e454b3842ecb3ff469bd898862a": {
          "model_module": "@jupyter-widgets/base",
          "model_name": "LayoutModel",
          "model_module_version": "1.2.0",
          "state": {
            "_view_name": "LayoutView",
            "grid_template_rows": null,
            "right": null,
            "justify_content": null,
            "_view_module": "@jupyter-widgets/base",
            "overflow": null,
            "_model_module_version": "1.2.0",
            "_view_count": null,
            "flex_flow": null,
            "width": null,
            "min_width": null,
            "border": null,
            "align_items": null,
            "bottom": null,
            "_model_module": "@jupyter-widgets/base",
            "top": null,
            "grid_column": null,
            "overflow_y": null,
            "overflow_x": null,
            "grid_auto_flow": null,
            "grid_area": null,
            "grid_template_columns": null,
            "flex": null,
            "_model_name": "LayoutModel",
            "justify_items": null,
            "grid_row": null,
            "max_height": null,
            "align_content": null,
            "visibility": null,
            "align_self": null,
            "height": null,
            "min_height": null,
            "padding": null,
            "grid_auto_rows": null,
            "grid_gap": null,
            "max_width": null,
            "order": null,
            "_view_module_version": "1.2.0",
            "grid_template_areas": null,
            "object_position": null,
            "object_fit": null,
            "grid_auto_columns": null,
            "margin": null,
            "display": null,
            "left": null
          }
        },
        "ae3e1857323d470c83530fc43ce2f574": {
          "model_module": "@jupyter-widgets/controls",
          "model_name": "DescriptionStyleModel",
          "model_module_version": "1.5.0",
          "state": {
            "_view_name": "StyleView",
            "_model_name": "DescriptionStyleModel",
            "description_width": "",
            "_view_module": "@jupyter-widgets/base",
            "_model_module_version": "1.5.0",
            "_view_count": null,
            "_view_module_version": "1.2.0",
            "_model_module": "@jupyter-widgets/controls"
          }
        },
        "109f3792a2cc49bb862db89516be7a5f": {
          "model_module": "@jupyter-widgets/base",
          "model_name": "LayoutModel",
          "model_module_version": "1.2.0",
          "state": {
            "_view_name": "LayoutView",
            "grid_template_rows": null,
            "right": null,
            "justify_content": null,
            "_view_module": "@jupyter-widgets/base",
            "overflow": null,
            "_model_module_version": "1.2.0",
            "_view_count": null,
            "flex_flow": null,
            "width": null,
            "min_width": null,
            "border": null,
            "align_items": null,
            "bottom": null,
            "_model_module": "@jupyter-widgets/base",
            "top": null,
            "grid_column": null,
            "overflow_y": null,
            "overflow_x": null,
            "grid_auto_flow": null,
            "grid_area": null,
            "grid_template_columns": null,
            "flex": null,
            "_model_name": "LayoutModel",
            "justify_items": null,
            "grid_row": null,
            "max_height": null,
            "align_content": null,
            "visibility": null,
            "align_self": null,
            "height": null,
            "min_height": null,
            "padding": null,
            "grid_auto_rows": null,
            "grid_gap": null,
            "max_width": null,
            "order": null,
            "_view_module_version": "1.2.0",
            "grid_template_areas": null,
            "object_position": null,
            "object_fit": null,
            "grid_auto_columns": null,
            "margin": null,
            "display": null,
            "left": null
          }
        },
        "5a5042bdd8b246249ea55e04d30a196a": {
          "model_module": "@jupyter-widgets/controls",
          "model_name": "HBoxModel",
          "model_module_version": "1.5.0",
          "state": {
            "_view_name": "HBoxView",
            "_dom_classes": [],
            "_model_name": "HBoxModel",
            "_view_module": "@jupyter-widgets/controls",
            "_model_module_version": "1.5.0",
            "_view_count": null,
            "_view_module_version": "1.5.0",
            "box_style": "",
            "layout": "IPY_MODEL_1cf9a825d53946cb86802831b5385c61",
            "_model_module": "@jupyter-widgets/controls",
            "children": [
              "IPY_MODEL_c4fb76ba1a3645dabc7d657d028e0d7d",
              "IPY_MODEL_744863a84f934a52acae56fbc48ec042",
              "IPY_MODEL_79a0ed481a1745418b8814deef6ab5c0"
            ]
          }
        },
        "1cf9a825d53946cb86802831b5385c61": {
          "model_module": "@jupyter-widgets/base",
          "model_name": "LayoutModel",
          "model_module_version": "1.2.0",
          "state": {
            "_view_name": "LayoutView",
            "grid_template_rows": null,
            "right": null,
            "justify_content": null,
            "_view_module": "@jupyter-widgets/base",
            "overflow": null,
            "_model_module_version": "1.2.0",
            "_view_count": null,
            "flex_flow": null,
            "width": null,
            "min_width": null,
            "border": null,
            "align_items": null,
            "bottom": null,
            "_model_module": "@jupyter-widgets/base",
            "top": null,
            "grid_column": null,
            "overflow_y": null,
            "overflow_x": null,
            "grid_auto_flow": null,
            "grid_area": null,
            "grid_template_columns": null,
            "flex": null,
            "_model_name": "LayoutModel",
            "justify_items": null,
            "grid_row": null,
            "max_height": null,
            "align_content": null,
            "visibility": null,
            "align_self": null,
            "height": null,
            "min_height": null,
            "padding": null,
            "grid_auto_rows": null,
            "grid_gap": null,
            "max_width": null,
            "order": null,
            "_view_module_version": "1.2.0",
            "grid_template_areas": null,
            "object_position": null,
            "object_fit": null,
            "grid_auto_columns": null,
            "margin": null,
            "display": null,
            "left": null
          }
        },
        "c4fb76ba1a3645dabc7d657d028e0d7d": {
          "model_module": "@jupyter-widgets/controls",
          "model_name": "HTMLModel",
          "model_module_version": "1.5.0",
          "state": {
            "_view_name": "HTMLView",
            "style": "IPY_MODEL_8ea3f3a00f17459e83391f72022c89d3",
            "_dom_classes": [],
            "description": "",
            "_model_name": "HTMLModel",
            "placeholder": "​",
            "_view_module": "@jupyter-widgets/controls",
            "_model_module_version": "1.5.0",
            "value": "Downloading: 100%",
            "_view_count": null,
            "_view_module_version": "1.5.0",
            "description_tooltip": null,
            "_model_module": "@jupyter-widgets/controls",
            "layout": "IPY_MODEL_f5e33507cc6742fd9467bc85026d8cc6"
          }
        },
        "744863a84f934a52acae56fbc48ec042": {
          "model_module": "@jupyter-widgets/controls",
          "model_name": "FloatProgressModel",
          "model_module_version": "1.5.0",
          "state": {
            "_view_name": "ProgressView",
            "style": "IPY_MODEL_a23bf34b414646619b847602d96e9365",
            "_dom_classes": [],
            "description": "",
            "_model_name": "FloatProgressModel",
            "bar_style": "success",
            "max": 570,
            "_view_module": "@jupyter-widgets/controls",
            "_model_module_version": "1.5.0",
            "value": 570,
            "_view_count": null,
            "_view_module_version": "1.5.0",
            "orientation": "horizontal",
            "min": 0,
            "description_tooltip": null,
            "_model_module": "@jupyter-widgets/controls",
            "layout": "IPY_MODEL_b24b160021324baf86851196f33d9329"
          }
        },
        "79a0ed481a1745418b8814deef6ab5c0": {
          "model_module": "@jupyter-widgets/controls",
          "model_name": "HTMLModel",
          "model_module_version": "1.5.0",
          "state": {
            "_view_name": "HTMLView",
            "style": "IPY_MODEL_1339b0b65cf4478c86d60065f22fa38a",
            "_dom_classes": [],
            "description": "",
            "_model_name": "HTMLModel",
            "placeholder": "​",
            "_view_module": "@jupyter-widgets/controls",
            "_model_module_version": "1.5.0",
            "value": " 570/570 [00:00&lt;00:00, 12.9kB/s]",
            "_view_count": null,
            "_view_module_version": "1.5.0",
            "description_tooltip": null,
            "_model_module": "@jupyter-widgets/controls",
            "layout": "IPY_MODEL_845b3bc838f14b03a2d29099a84261b0"
          }
        },
        "8ea3f3a00f17459e83391f72022c89d3": {
          "model_module": "@jupyter-widgets/controls",
          "model_name": "DescriptionStyleModel",
          "model_module_version": "1.5.0",
          "state": {
            "_view_name": "StyleView",
            "_model_name": "DescriptionStyleModel",
            "description_width": "",
            "_view_module": "@jupyter-widgets/base",
            "_model_module_version": "1.5.0",
            "_view_count": null,
            "_view_module_version": "1.2.0",
            "_model_module": "@jupyter-widgets/controls"
          }
        },
        "f5e33507cc6742fd9467bc85026d8cc6": {
          "model_module": "@jupyter-widgets/base",
          "model_name": "LayoutModel",
          "model_module_version": "1.2.0",
          "state": {
            "_view_name": "LayoutView",
            "grid_template_rows": null,
            "right": null,
            "justify_content": null,
            "_view_module": "@jupyter-widgets/base",
            "overflow": null,
            "_model_module_version": "1.2.0",
            "_view_count": null,
            "flex_flow": null,
            "width": null,
            "min_width": null,
            "border": null,
            "align_items": null,
            "bottom": null,
            "_model_module": "@jupyter-widgets/base",
            "top": null,
            "grid_column": null,
            "overflow_y": null,
            "overflow_x": null,
            "grid_auto_flow": null,
            "grid_area": null,
            "grid_template_columns": null,
            "flex": null,
            "_model_name": "LayoutModel",
            "justify_items": null,
            "grid_row": null,
            "max_height": null,
            "align_content": null,
            "visibility": null,
            "align_self": null,
            "height": null,
            "min_height": null,
            "padding": null,
            "grid_auto_rows": null,
            "grid_gap": null,
            "max_width": null,
            "order": null,
            "_view_module_version": "1.2.0",
            "grid_template_areas": null,
            "object_position": null,
            "object_fit": null,
            "grid_auto_columns": null,
            "margin": null,
            "display": null,
            "left": null
          }
        },
        "a23bf34b414646619b847602d96e9365": {
          "model_module": "@jupyter-widgets/controls",
          "model_name": "ProgressStyleModel",
          "model_module_version": "1.5.0",
          "state": {
            "_view_name": "StyleView",
            "_model_name": "ProgressStyleModel",
            "description_width": "",
            "_view_module": "@jupyter-widgets/base",
            "_model_module_version": "1.5.0",
            "_view_count": null,
            "_view_module_version": "1.2.0",
            "bar_color": null,
            "_model_module": "@jupyter-widgets/controls"
          }
        },
        "b24b160021324baf86851196f33d9329": {
          "model_module": "@jupyter-widgets/base",
          "model_name": "LayoutModel",
          "model_module_version": "1.2.0",
          "state": {
            "_view_name": "LayoutView",
            "grid_template_rows": null,
            "right": null,
            "justify_content": null,
            "_view_module": "@jupyter-widgets/base",
            "overflow": null,
            "_model_module_version": "1.2.0",
            "_view_count": null,
            "flex_flow": null,
            "width": null,
            "min_width": null,
            "border": null,
            "align_items": null,
            "bottom": null,
            "_model_module": "@jupyter-widgets/base",
            "top": null,
            "grid_column": null,
            "overflow_y": null,
            "overflow_x": null,
            "grid_auto_flow": null,
            "grid_area": null,
            "grid_template_columns": null,
            "flex": null,
            "_model_name": "LayoutModel",
            "justify_items": null,
            "grid_row": null,
            "max_height": null,
            "align_content": null,
            "visibility": null,
            "align_self": null,
            "height": null,
            "min_height": null,
            "padding": null,
            "grid_auto_rows": null,
            "grid_gap": null,
            "max_width": null,
            "order": null,
            "_view_module_version": "1.2.0",
            "grid_template_areas": null,
            "object_position": null,
            "object_fit": null,
            "grid_auto_columns": null,
            "margin": null,
            "display": null,
            "left": null
          }
        },
        "1339b0b65cf4478c86d60065f22fa38a": {
          "model_module": "@jupyter-widgets/controls",
          "model_name": "DescriptionStyleModel",
          "model_module_version": "1.5.0",
          "state": {
            "_view_name": "StyleView",
            "_model_name": "DescriptionStyleModel",
            "description_width": "",
            "_view_module": "@jupyter-widgets/base",
            "_model_module_version": "1.5.0",
            "_view_count": null,
            "_view_module_version": "1.2.0",
            "_model_module": "@jupyter-widgets/controls"
          }
        },
        "845b3bc838f14b03a2d29099a84261b0": {
          "model_module": "@jupyter-widgets/base",
          "model_name": "LayoutModel",
          "model_module_version": "1.2.0",
          "state": {
            "_view_name": "LayoutView",
            "grid_template_rows": null,
            "right": null,
            "justify_content": null,
            "_view_module": "@jupyter-widgets/base",
            "overflow": null,
            "_model_module_version": "1.2.0",
            "_view_count": null,
            "flex_flow": null,
            "width": null,
            "min_width": null,
            "border": null,
            "align_items": null,
            "bottom": null,
            "_model_module": "@jupyter-widgets/base",
            "top": null,
            "grid_column": null,
            "overflow_y": null,
            "overflow_x": null,
            "grid_auto_flow": null,
            "grid_area": null,
            "grid_template_columns": null,
            "flex": null,
            "_model_name": "LayoutModel",
            "justify_items": null,
            "grid_row": null,
            "max_height": null,
            "align_content": null,
            "visibility": null,
            "align_self": null,
            "height": null,
            "min_height": null,
            "padding": null,
            "grid_auto_rows": null,
            "grid_gap": null,
            "max_width": null,
            "order": null,
            "_view_module_version": "1.2.0",
            "grid_template_areas": null,
            "object_position": null,
            "object_fit": null,
            "grid_auto_columns": null,
            "margin": null,
            "display": null,
            "left": null
          }
        }
      }
    },
    "accelerator": "GPU"
  },
  "cells": [
    {
      "cell_type": "markdown",
      "metadata": {
        "id": "maYQf6Getnfo"
      },
      "source": [
        "# **1. Introduction**\n",
        "\n",
        "This notebook will go through the steps for model training and evaluation. The model used for this project is BERT."
      ]
    },
    {
      "cell_type": "markdown",
      "metadata": {
        "id": "fpK0j1eKuOkI"
      },
      "source": [
        "**1.1 Set up**"
      ]
    },
    {
      "cell_type": "code",
      "metadata": {
        "id": "iogO9fwVtdE8"
      },
      "source": [
        "import os\n",
        "import torch\n",
        "import tensorflow as tf\n",
        "import numpy as np\n",
        "import pandas as pd\n",
        "import random\n",
        "import time\n",
        "import datetime\n",
        "\n",
        "from joblib import load\n",
        "from collections import namedtuple\n",
        "from typing import List, Dict, Tuple\n",
        "from torch.utils.data import TensorDataset, DataLoader, RandomSampler, SequentialSampler, random_split\n",
        "\n",
        "from sklearn.metrics.pairwise import cosine_similarity\n",
        "from sklearn.metrics import f1_score\n",
        "from sklearn.linear_model import LogisticRegression\n",
        "from sklearn.model_selection import GridSearchCV\n",
        "from sklearn.model_selection import cross_val_score\n",
        "from sklearn.model_selection import train_test_split\n",
        "from sklearn.metrics import f1_score\n",
        "from sklearn.metrics.pairwise import cosine_similarity\n",
        "import pickle\n",
        "from joblib import dump, load\n",
        "\n",
        "import transformers \n",
        "from transformers import BertTokenizer, BertForSequenceClassification, AdamW, BertConfig, get_linear_schedule_with_warmup"
      ],
      "execution_count": 5,
      "outputs": []
    },
    {
      "cell_type": "code",
      "metadata": {
        "id": "zTw3VC6-3H9W",
        "colab": {
          "base_uri": "https://localhost:8080/"
        },
        "outputId": "2bd7bbe7-2985-4074-8a73-79880f17c7ad"
      },
      "source": [
        "#Get the GPU device name.\n",
        "device_name = tf.test.gpu_device_name()\n",
        "#The device name should look like the following:\n",
        "if device_name == '/device:GPU:0':\n",
        "    print('Found GPU at: {}'.format(device_name))\n",
        "else:\n",
        "    print(\"GPU device not found\")\n",
        "    #raise SystemError('GPU device not found')\n",
        "\n",
        "# If there's a GPU available...\n",
        "if torch.cuda.is_available():      \n",
        "    device = torch.device(\"cuda\")\n",
        "    print('There are %d GPU(s) available.' % torch.cuda.device_count())\n",
        "    print('We will use the GPU:', torch.cuda.get_device_name(0))\n",
        "else:\n",
        "  print('No GPU available, using the CPU instead.')\n",
        "  device = torch.device(\"cpu\")"
      ],
      "execution_count": 6,
      "outputs": [
        {
          "output_type": "stream",
          "name": "stdout",
          "text": [
            "Found GPU at: /device:GPU:0\n",
            "There are 1 GPU(s) available.\n",
            "We will use the GPU: Tesla K80\n"
          ]
        }
      ]
    },
    {
      "cell_type": "markdown",
      "metadata": {
        "id": "0dG9yXmnuXSg"
      },
      "source": [
        "**1.2 Load dataset**"
      ]
    },
    {
      "cell_type": "markdown",
      "metadata": {
        "id": "6UlWVm6Ouci1"
      },
      "source": [
        "Here I chose fiction category for developing models. The size for fiction and non-fiction books are roughly balanced."
      ]
    },
    {
      "cell_type": "code",
      "metadata": {
        "id": "fH59_Bkv3Kda"
      },
      "source": [
        "df = pd.read_csv('final_df.csv')\n",
        "df_fiction = df[['book','genres_Fiction']]"
      ],
      "execution_count": 7,
      "outputs": []
    },
    {
      "cell_type": "code",
      "metadata": {
        "colab": {
          "base_uri": "https://localhost:8080/"
        },
        "id": "GQWfm2e4pnhJ",
        "outputId": "183f505e-1287-4c57-dde0-56cb53fa238c"
      },
      "source": [
        "df_fiction['genres_Fiction'] = df_fiction['genres_Fiction'].astype(int)"
      ],
      "execution_count": 8,
      "outputs": [
        {
          "output_type": "stream",
          "name": "stderr",
          "text": [
            "/usr/local/lib/python3.7/dist-packages/ipykernel_launcher.py:1: SettingWithCopyWarning: \n",
            "A value is trying to be set on a copy of a slice from a DataFrame.\n",
            "Try using .loc[row_indexer,col_indexer] = value instead\n",
            "\n",
            "See the caveats in the documentation: https://pandas.pydata.org/pandas-docs/stable/user_guide/indexing.html#returning-a-view-versus-a-copy\n",
            "  \"\"\"Entry point for launching an IPython kernel.\n"
          ]
        }
      ]
    },
    {
      "cell_type": "code",
      "metadata": {
        "colab": {
          "base_uri": "https://localhost:8080/"
        },
        "id": "_iBvxb5e4C-3",
        "outputId": "acaa54ec-ec76-40f0-8003-db25f6e3d0b8"
      },
      "source": [
        "df_fiction['genres_Fiction'].value_counts()"
      ],
      "execution_count": 9,
      "outputs": [
        {
          "output_type": "execute_result",
          "data": {
            "text/plain": [
              "1    31313\n",
              "0    30139\n",
              "Name: genres_Fiction, dtype: int64"
            ]
          },
          "metadata": {},
          "execution_count": 9
        }
      ]
    },
    {
      "cell_type": "code",
      "metadata": {
        "id": "QVjhAK1wyz5f"
      },
      "source": [
        ""
      ],
      "execution_count": null,
      "outputs": []
    },
    {
      "cell_type": "markdown",
      "metadata": {
        "id": "ny_ESKeRu2nK"
      },
      "source": [
        "# **2. Model Training**"
      ]
    },
    {
      "cell_type": "markdown",
      "metadata": {
        "id": "0Jwo3IKYvDw4"
      },
      "source": [
        "**2.1 BERT Tokenizer**"
      ]
    },
    {
      "cell_type": "markdown",
      "metadata": {
        "id": "j2lMOY5cvJBw"
      },
      "source": [
        "To apply pre-trained BERT model, BERT tokenizer will be used to preprocess text information. These steps will be applied:\n",
        "1. tokenize text\n",
        "2. add [CLS] (at the begining of sentence) and [SEP] (at the end of sentence) tokens \n",
        "3. map tokens into indexes \n",
        "4. truncate sentences, the maximum length BERT can tokenize is 512. \n",
        "5. pad sentences to maximum length\n",
        "6. create attention masks.\n",
        "\n",
        "In BERT tokenizer, encode_plus can handle all of these steps. "
      ]
    },
    {
      "cell_type": "code",
      "metadata": {
        "id": "Hm24gWsXxeyp",
        "colab": {
          "base_uri": "https://localhost:8080/",
          "height": 217,
          "referenced_widgets": [
            "356a032f2f544791bbc3dc313e6f8cd8",
            "9f2377f9b42d4884a22a73f462c87137",
            "53a712baa0b14c20b39c72590580a281",
            "684d49a1222f4d07a762fe7a59a13c09",
            "a3e7ddf2341c42989af7c9c505281a5e",
            "c845ad5933724e86898c5a19ceb7350d",
            "82cf2448b5754eae93704e5cabde15db",
            "666db0e20def451ea99b0389df185093",
            "3f01e3eeb0e749ee9f6e17bbbd77955a",
            "334640656d874d82a7c16220fb22961c",
            "03c7326225f04e7d8842cd923230c264",
            "afd1d098e33e41d48dc2e6e4dd93cea9",
            "23be4603cfbc4559ab5bfabd447747d4",
            "15325ba622bd443a9928092d6deac8d8",
            "9662e6c2ed984dc9a18b3e0cdeaabeba",
            "fb665cc1a6a04d8085371c8243b17422",
            "e511e55c834b4d6eb36c6519fdeb9b4e",
            "d0cb0fe52a9b4284aa694b0ecee6493a",
            "2cc9495d41d442a99a0c49d5854ae259",
            "90a0acfc97a1469ba83ec81416b06d37",
            "8d09a77237704577bc7062fde4a13975",
            "1da25520b9a64a3eb9dbef7fb4e48127",
            "22fc56d3fe9149f99323eed39f1157b7",
            "b4f721789e9e4a6a9b5af1e80b3c7554",
            "8fb91b0041af44199f042daf3cd818ba",
            "4cd80e3e83b746c281346d6a9ccb1dd7",
            "9dc5c95816104967a1af3caacba0159e",
            "658c12c5e937437893d210ce7151e863",
            "22590508947d48ee90e5e9b58716745a",
            "54d2a59d631c40d5b14ab7bfc0bbcb1d",
            "748c1e454b3842ecb3ff469bd898862a",
            "ae3e1857323d470c83530fc43ce2f574",
            "109f3792a2cc49bb862db89516be7a5f",
            "5a5042bdd8b246249ea55e04d30a196a",
            "1cf9a825d53946cb86802831b5385c61",
            "c4fb76ba1a3645dabc7d657d028e0d7d",
            "744863a84f934a52acae56fbc48ec042",
            "79a0ed481a1745418b8814deef6ab5c0",
            "8ea3f3a00f17459e83391f72022c89d3",
            "f5e33507cc6742fd9467bc85026d8cc6",
            "a23bf34b414646619b847602d96e9365",
            "b24b160021324baf86851196f33d9329",
            "1339b0b65cf4478c86d60065f22fa38a",
            "845b3bc838f14b03a2d29099a84261b0"
          ]
        },
        "outputId": "de1c3190-6e70-4e49-9913-576a740148e3"
      },
      "source": [
        "from transformers import BertTokenizer\n",
        "\n",
        "#Load the BERT tokenizer\n",
        "tokenizer = BertTokenizer.from_pretrained('bert-base-uncased', do_lower_case=True)\n",
        "\n",
        "input_ids = []\n",
        "attention_masks = []\n",
        "labels = df_fiction['genres_Fiction']\n",
        "max_len = 512\n",
        "#For every sentence\n",
        "for i in range(len(df_fiction)):\n",
        "  encoded_dict = tokenizer.encode_plus(\n",
        "      df_fiction['book'][i],\n",
        "      add_special_tokens = True, #add '[CLS]' and '[SEP]'\n",
        "      max_length = max_len, #pad and truncate \n",
        "      pad_to_max_length = True,\n",
        "      return_attention_mask = True, #construct attention mask\n",
        "      return_tensors = 'pt', #return pytorch tensors\n",
        "  )\n",
        "\n",
        "  #add the encoded sentence to the list\n",
        "  input_ids.append(encoded_dict['input_ids'])\n",
        "\n",
        "  #add its attention mask (simply differentiates padding from non-padding)\n",
        "  attention_masks.append(encoded_dict['attention_mask'])\n",
        "\n",
        "#convert the lists into tensors\n",
        "input_ids = torch.cat(input_ids, dim = 0)\n",
        "attention_masks = torch.cat(attention_masks, dim = 0)\n",
        "labels = torch.tensor(labels)"
      ],
      "execution_count": 13,
      "outputs": [
        {
          "output_type": "display_data",
          "data": {
            "application/vnd.jupyter.widget-view+json": {
              "model_id": "356a032f2f544791bbc3dc313e6f8cd8",
              "version_minor": 0,
              "version_major": 2
            },
            "text/plain": [
              "Downloading:   0%|          | 0.00/226k [00:00<?, ?B/s]"
            ]
          },
          "metadata": {}
        },
        {
          "output_type": "display_data",
          "data": {
            "application/vnd.jupyter.widget-view+json": {
              "model_id": "afd1d098e33e41d48dc2e6e4dd93cea9",
              "version_minor": 0,
              "version_major": 2
            },
            "text/plain": [
              "Downloading:   0%|          | 0.00/28.0 [00:00<?, ?B/s]"
            ]
          },
          "metadata": {}
        },
        {
          "output_type": "display_data",
          "data": {
            "application/vnd.jupyter.widget-view+json": {
              "model_id": "22fc56d3fe9149f99323eed39f1157b7",
              "version_minor": 0,
              "version_major": 2
            },
            "text/plain": [
              "Downloading:   0%|          | 0.00/455k [00:00<?, ?B/s]"
            ]
          },
          "metadata": {}
        },
        {
          "output_type": "display_data",
          "data": {
            "application/vnd.jupyter.widget-view+json": {
              "model_id": "5a5042bdd8b246249ea55e04d30a196a",
              "version_minor": 0,
              "version_major": 2
            },
            "text/plain": [
              "Downloading:   0%|          | 0.00/570 [00:00<?, ?B/s]"
            ]
          },
          "metadata": {}
        },
        {
          "output_type": "stream",
          "name": "stderr",
          "text": [
            "Truncation was not explicitly activated but `max_length` is provided a specific value, please use `truncation=True` to explicitly truncate examples to max length. Defaulting to 'longest_first' truncation strategy. If you encode pairs of sequences (GLUE-style) with the tokenizer you can select this strategy more precisely by providing a specific strategy to `truncation`.\n",
            "/usr/local/lib/python3.7/dist-packages/transformers/tokenization_utils_base.py:2218: FutureWarning: The `pad_to_max_length` argument is deprecated and will be removed in a future version, use `padding=True` or `padding='longest'` to pad to the longest sequence in the batch, or use `padding='max_length'` to pad to a max length. In this case, you can give a specific length with `max_length` (e.g. `max_length=45`) or leave max_length to None to pad to the maximal input size of the model (e.g. 512 for Bert).\n",
            "  FutureWarning,\n"
          ]
        }
      ]
    },
    {
      "cell_type": "code",
      "metadata": {
        "colab": {
          "base_uri": "https://localhost:8080/"
        },
        "id": "3EBbHm8Cq56j",
        "outputId": "1714bdef-de94-4416-f56e-d760bb315699"
      },
      "source": [
        "print ('Original: ', df_fiction['book'][0])\n",
        "print ('-'*10)\n",
        "print ('Tokenized: ', tokenizer.tokenize(df_fiction['book'][0]))\n",
        "print ('Token IDs: ', tokenizer.convert_tokens_to_ids(tokenizer.tokenize(df_fiction['book'][0])))"
      ],
      "execution_count": 14,
      "outputs": [
        {
          "output_type": "stream",
          "name": "stdout",
          "text": [
            "Original:  Battle Royale, Vol. 14 The beginning of the end!Shuuya, Kawada, and Noriko fight for their lives against Kiriyama, the psychotic student who decimated most of their class. While Kiriyama strives to eradicate the other kids' futures, we get an insider's view of Kiriyama's past... and what forces shaped this bright, talented young man into the unfeeling killer he is today.\n",
            "The beginning of the end!Shuuya, Kawada, and Noriko fight for their lives against Kiriyama, the psychotic student who decimated most of their class. While Kiriyama strives to eradicate the other kids' futures, we get an insider's view of Kiriyama's past... and what forces shaped this bright, talented young man into the unfeeling killer he is today.\n",
            "...more\n",
            "Tokenized:  ['battle', 'royale', ',', 'vol', '.', '14', 'the', 'beginning', 'of', 'the', 'end', '!', 'shu', '##uy', '##a', ',', 'ka', '##wad', '##a', ',', 'and', 'nor', '##iko', 'fight', 'for', 'their', 'lives', 'against', 'ki', '##ri', '##yama', ',', 'the', 'psychotic', 'student', 'who', 'dec', '##imated', 'most', 'of', 'their', 'class', '.', 'while', 'ki', '##ri', '##yama', 'strive', '##s', 'to', 'era', '##dicate', 'the', 'other', 'kids', \"'\", 'futures', ',', 'we', 'get', 'an', 'insider', \"'\", 's', 'view', 'of', 'ki', '##ri', '##yama', \"'\", 's', 'past', '.', '.', '.', 'and', 'what', 'forces', 'shaped', 'this', 'bright', ',', 'talented', 'young', 'man', 'into', 'the', 'un', '##fe', '##elin', '##g', 'killer', 'he', 'is', 'today', '.', 'the', 'beginning', 'of', 'the', 'end', '!', 'shu', '##uy', '##a', ',', 'ka', '##wad', '##a', ',', 'and', 'nor', '##iko', 'fight', 'for', 'their', 'lives', 'against', 'ki', '##ri', '##yama', ',', 'the', 'psychotic', 'student', 'who', 'dec', '##imated', 'most', 'of', 'their', 'class', '.', 'while', 'ki', '##ri', '##yama', 'strive', '##s', 'to', 'era', '##dicate', 'the', 'other', 'kids', \"'\", 'futures', ',', 'we', 'get', 'an', 'insider', \"'\", 's', 'view', 'of', 'ki', '##ri', '##yama', \"'\", 's', 'past', '.', '.', '.', 'and', 'what', 'forces', 'shaped', 'this', 'bright', ',', 'talented', 'young', 'man', 'into', 'the', 'un', '##fe', '##elin', '##g', 'killer', 'he', 'is', 'today', '.', '.', '.', '.', 'more']\n",
            "Token IDs:  [2645, 24483, 1010, 5285, 1012, 2403, 1996, 2927, 1997, 1996, 2203, 999, 18454, 26230, 2050, 1010, 10556, 26016, 2050, 1010, 1998, 4496, 12676, 2954, 2005, 2037, 3268, 2114, 11382, 3089, 11613, 1010, 1996, 27756, 3076, 2040, 11703, 20592, 2087, 1997, 2037, 2465, 1012, 2096, 11382, 3089, 11613, 29453, 2015, 2000, 3690, 16467, 1996, 2060, 4268, 1005, 17795, 1010, 2057, 2131, 2019, 25297, 1005, 1055, 3193, 1997, 11382, 3089, 11613, 1005, 1055, 2627, 1012, 1012, 1012, 1998, 2054, 2749, 5044, 2023, 4408, 1010, 10904, 2402, 2158, 2046, 1996, 4895, 7959, 18809, 2290, 6359, 2002, 2003, 2651, 1012, 1996, 2927, 1997, 1996, 2203, 999, 18454, 26230, 2050, 1010, 10556, 26016, 2050, 1010, 1998, 4496, 12676, 2954, 2005, 2037, 3268, 2114, 11382, 3089, 11613, 1010, 1996, 27756, 3076, 2040, 11703, 20592, 2087, 1997, 2037, 2465, 1012, 2096, 11382, 3089, 11613, 29453, 2015, 2000, 3690, 16467, 1996, 2060, 4268, 1005, 17795, 1010, 2057, 2131, 2019, 25297, 1005, 1055, 3193, 1997, 11382, 3089, 11613, 1005, 1055, 2627, 1012, 1012, 1012, 1998, 2054, 2749, 5044, 2023, 4408, 1010, 10904, 2402, 2158, 2046, 1996, 4895, 7959, 18809, 2290, 6359, 2002, 2003, 2651, 1012, 1012, 1012, 1012, 2062]\n"
          ]
        }
      ]
    },
    {
      "cell_type": "code",
      "metadata": {
        "colab": {
          "base_uri": "https://localhost:8080/"
        },
        "id": "VOXYoxVss9Ip",
        "outputId": "95a7d7a0-63ea-4a68-c4d9-30420d8582d2"
      },
      "source": [
        "max_len = 0\n",
        "for i in range(len(df_fiction)):\n",
        "  #Tokenize the text and add '[CLS]' and '[SEP]' tokens\n",
        "  synopsis = tokenizer.encode(df_fiction['book'][i], add_special_tokens = True)\n",
        "  max_len = max(max_len, len(synopsis))\n",
        "print ('Max sentence length: ', max_len)"
      ],
      "execution_count": null,
      "outputs": [
        {
          "output_type": "stream",
          "name": "stdout",
          "text": [
            "Max sentence length:  4387\n"
          ]
        }
      ]
    },
    {
      "cell_type": "markdown",
      "metadata": {
        "id": "Y5vHlUzJxtEc"
      },
      "source": [
        "**2.2 Create PyTorch DataLoader**\n",
        "\n",
        "Using pytorch dataloader to prepare training/validation dataset."
      ]
    },
    {
      "cell_type": "code",
      "metadata": {
        "colab": {
          "base_uri": "https://localhost:8080/"
        },
        "id": "CiKAgb5kySv_",
        "outputId": "5c8053b5-8636-4779-c0e8-c83f84cabc1a"
      },
      "source": [
        "#combine the training inputs into a tensor dataset\n",
        "dataset = TensorDataset(input_ids, attention_masks, labels)\n",
        "\n",
        "train_size = int(0.8*len(dataset))\n",
        "val_size = len(dataset) - train_size\n",
        "\n",
        "#divide the dataset by randomly selecting samples\n",
        "train_dataset, val_dataset = random_split(dataset, [train_size, val_size])\n",
        "\n",
        "print('{:>5,} training samples'.format(train_size))\n",
        "print('{:>5,} validation samples'.format(val_size))"
      ],
      "execution_count": 15,
      "outputs": [
        {
          "output_type": "stream",
          "name": "stdout",
          "text": [
            "49,161 training samples\n",
            "12,291 validation samples\n"
          ]
        }
      ]
    },
    {
      "cell_type": "code",
      "metadata": {
        "id": "3WOS86F03dO5"
      },
      "source": [
        "#create dataset for training. The authors of BERT recommend a batch size of 16 or 32.\n",
        "batch_size = 32\n",
        "train_dataloader = DataLoader(\n",
        "    train_dataset,\n",
        "    sampler = RandomSampler(train_dataset), #select batch randomly\n",
        "    batch_size = batch_size\n",
        ")\n",
        "\n",
        "#for validation, the order doesn't matter, so just read them sequentially\n",
        "validation_dataloader = DataLoader(\n",
        "    val_dataset,\n",
        "    sampler = SequentialSampler(val_dataset),\n",
        "    batch_size = batch_size\n",
        ")"
      ],
      "execution_count": 16,
      "outputs": []
    },
    {
      "cell_type": "markdown",
      "metadata": {
        "id": "7hJN7XA_yiYb"
      },
      "source": [
        "# 3. Train BERT\n",
        "\n",
        "**3.1 Create Bert Classifier**\n",
        "\n",
        "Ideally starting with the pretrained BERT and fine-tuning can acheive good performance. However, it ran out of RAM when fine-tuning the whole BERT model given the large size of BERT model. Thus, I freeze the parameters in BERT below and the last hidden layer of token [CLS] is extracted. An extra single feedforward neural network is added for fine-tuning and final classification.\n"
      ]
    },
    {
      "cell_type": "code",
      "metadata": {
        "id": "QHzg_FviGmLp",
        "colab": {
          "base_uri": "https://localhost:8080/"
        },
        "outputId": "60085b9e-f553-46b0-b1a1-e3bf054b4451"
      },
      "source": [
        "%%time\n",
        "import torch\n",
        "import torch.nn as nn \n",
        "from transformers import BertModel\n",
        "\n",
        "class BertClassifier(nn.Module):\n",
        "  def __init__(self, freeze_bert = False):\n",
        "    \"\"\"\n",
        "    @param bert: a BertModel object\n",
        "    @param classifier: a torch.nn.Module classifier\n",
        "    @param freeze_bert (bool): Set \"False\" to fine-tune BERT model\n",
        "    \"\"\"\n",
        "\n",
        "    super(BertClassifier, self).__init__()\n",
        "    D_in, H, D_out = 768, 50, 2\n",
        "\n",
        "    #instantiate BERT model\n",
        "    self.bert = BertModel.from_pretrained('bert-base-uncased')\n",
        "\n",
        "    #add one-layer feed-forward classifier\n",
        "    self.classifier = nn.Sequential(\n",
        "        nn.Linear(D_in, H),\n",
        "        nn.ReLU(),\n",
        "        nn.Linear(H, D_out)\n",
        "    )\n",
        "\n",
        "    #freeze the bert model\n",
        "    if freeze_bert:\n",
        "      for param in self.bert.parameters():\n",
        "        param.requires_grad = False\n",
        "    \n",
        "  def forward(self, input_ids, attention_masks):\n",
        "    \"\"\"\n",
        "    Feed input to BERT and the classifier to compute logits.\n",
        "    @param input_ids (torch.Tensor): an input tensor with shape (batch_size, max_length)\n",
        "    @param attention_mask (torch.Tensor): a tensor that hold attention mask information with shape (batch_size, max_length)\n",
        "    @return logits (torch.Tensor): an output tensor with shape (batch_size, num_labels)\n",
        "    \"\"\"\n",
        "    #feed input to bert\n",
        "    outputs = self.bert(input_ids = input_ids,\n",
        "                        attention_mask = attention_masks)\n",
        "    \n",
        "    #extract the last hidden state of the token '[CLS]' for classification task\n",
        "    last_hidden_state_cls = outputs[0][:, 0, :]\n",
        "\n",
        "    #feed input to classifier to compute logits\n",
        "    logits = self.classifier(last_hidden_state_cls)\n",
        "\n",
        "    return logits\n",
        "    "
      ],
      "execution_count": 17,
      "outputs": [
        {
          "output_type": "stream",
          "name": "stdout",
          "text": [
            "CPU times: user 270 µs, sys: 0 ns, total: 270 µs\n",
            "Wall time: 286 µs\n"
          ]
        }
      ]
    },
    {
      "cell_type": "code",
      "metadata": {
        "id": "Hk0gN6PvbeiO"
      },
      "source": [
        "from transformers import AdamW, get_linear_schedule_with_warmup\n",
        "\n",
        "def initialize_model(epochs = 4):\n",
        "  \"\"\"\n",
        "  Initialize the Bert Classifier, the optimizer and the learning rate\n",
        "  \"\"\"\n",
        "\n",
        "  bert_classifier = BertClassifier(freeze_bert = True)\n",
        "\n",
        "  #if avaiable, use GPU\n",
        "  bert_classifier.to(device)\n",
        "\n",
        "  #create the optimizer\n",
        "  optimizer = AdamW(bert_classifier.parameters(),\n",
        "                    lr = 5e-5,\n",
        "                    eps = 1e-8)\n",
        "\n",
        "  #total number of training steps\n",
        "  total_steps = len(train_dataloader) * epochs\n",
        "\n",
        "  #set up the learning rate scheduler\n",
        "  scheduler = get_linear_schedule_with_warmup(optimizer, \n",
        "                                              num_warmup_steps = 0,\n",
        "                                              num_training_steps = total_steps)\n",
        "  \n",
        "  return bert_classifier, optimizer, scheduler"
      ],
      "execution_count": 18,
      "outputs": []
    },
    {
      "cell_type": "markdown",
      "metadata": {
        "id": "RbNrkDTR0PLK"
      },
      "source": [
        "**3.2 Model Train**\n",
        "\n",
        "The model will be trained for 5 epochs. \n",
        "\n",
        "Train\n",
        "*   Zero out gradients calculated in previous pass.\n",
        "*   Perform a forward propogation to compute logits and loss.\n",
        "*   Perform a backward propogation to compute gradients.\n",
        "*   Clip the norm of the gradients to 1.0 to prevent exploding gradient.\n",
        "*   Update the model's parameters.\n",
        "*   Update the learning rate.\n",
        "\n",
        "\n",
        "Evaluation\n",
        "*   Perform a forward propogation.\n",
        "*   Compute the loss and accuracy over the validation dataset.\n"
      ]
    },
    {
      "cell_type": "code",
      "metadata": {
        "id": "Wi047EVedS9b"
      },
      "source": [
        "import random\n",
        "import time \n",
        "\n",
        "\n",
        "#specify loss function \n",
        "loss_fn = nn.CrossEntropyLoss()\n",
        "\n",
        "def set_seed(seed_value = 42):\n",
        "  random.seed(seed_value)\n",
        "  np.random.seed(seed_value)\n",
        "  torch.manual_seed(seed_value)\n",
        "  torch.cuda.manual_seed_all(seed_value)\n",
        "\n",
        "def train(model, train_dataloader, val_dataloader = None, epochs = 4, evaluation = False):\n",
        "  #start the training loop\n",
        "  print (\"Start training...\\n\")\n",
        "  for epoch_i in range(epochs):\n",
        "    print(f\"{'Epoch':^7} | {'Batch':^7} | {'Train Loss':^12} | {'Val Loss':^10} | {'Val Acc':^9} | {'Elapsed':^9}\")\n",
        "    print(\"-\"*70)\n",
        "\n",
        "    #Measure the time for each epoch\n",
        "    t0_epoch, t0_batch = time.time(), time.time()\n",
        "\n",
        "    total_loss, batch_loss, batch_counts = 0, 0, 0\n",
        "\n",
        "    model.train()\n",
        "\n",
        "    for step, batch in enumerate(train_dataloader):\n",
        "      batch_counts += 1\n",
        "      b_input_ids, b_attn_mask, b_labels = tuple(t.to(device) for t in batch)\n",
        "      model.zero_grad()\n",
        "      logits = model(b_input_ids, b_attn_mask)\n",
        "\n",
        "      loss = loss_fn(logits, b_labels)\n",
        "      batch_loss += loss.item()\n",
        "      total_loss += loss.item()\n",
        "\n",
        "      loss.backward()\n",
        "\n",
        "      torch.nn.utils.clip_grad_norm_(model.parameters(), 1.0)\n",
        "\n",
        "      optimizer.step()\n",
        "      scheduler.step()\n",
        "\n",
        "      #print the loss values and time elapsed for every 20 batches\n",
        "      if (step % 100 == 0 and step != 0) or (step == len(train_dataloader) - 1):\n",
        "        time_elapsed = time.time() - t0_batch\n",
        "        print(f\"{epoch_i + 1:^7} | {step:^7} | {batch_loss / batch_counts:^12.6f} | {'-':^10} | {'-':^9} | {time_elapsed:^9.2f}\")\n",
        "\n",
        "        batch_loss, batch_counts = 0, 0\n",
        "        t0_batch = time.time()\n",
        "\n",
        "    avg_train_loss = total_loss / len(train_dataloader)\n",
        "    print (\"-\"*70)\n",
        "\n",
        "    if evaluation == True:\n",
        "      val_loss, val_accuracy = evaluate(model, val_dataloader)\n",
        "      time_elapsed = time.time() - t0_epoch\n",
        "      print(f\"{epoch_i + 1:^7} | {'-':^7} | {avg_train_loss:^12.6f} | {val_loss:^10.6f} | {val_accuracy:^9.2f} | {time_elapsed:^9.2f}\")\n",
        "      print (\"-\"*70)\n",
        "    print(\"\\n\")\n",
        "  print (\"Training complete!\")\n",
        "\n",
        "\n",
        "def evaluate(model, val_dataloader):\n",
        "  model.eval()\n",
        "  val_accuracy = []\n",
        "  val_loss = []\n",
        "\n",
        "  for batch in val_dataloader:\n",
        "    b_input_ids, b_attn_mask, b_labels = tuple(t.to(device) for t in batch)\n",
        "\n",
        "    with torch.no_grad():\n",
        "      logits = model(b_input_ids, b_attn_mask)\n",
        "    \n",
        "    loss = loss_fn(logits, b_labels)\n",
        "    val_loss.append(loss.item())\n",
        "\n",
        "    preds = torch.argmax(logits, dim = 1).flatten()\n",
        "\n",
        "    accuracy = (preds == b_labels).cpu().numpy().mean()*100\n",
        "    val_accuracy.append(accuracy)\n",
        "\n",
        "  val_loss = np.mean(val_loss)\n",
        "  val_accuracy = np.mean(val_accuracy)\n",
        "\n",
        "  return val_loss, val_accuracy\n"
      ],
      "execution_count": 21,
      "outputs": []
    },
    {
      "cell_type": "code",
      "metadata": {
        "id": "Hb-cndhYl-w8",
        "colab": {
          "base_uri": "https://localhost:8080/"
        },
        "outputId": "2125a854-7f49-4f47-dd44-e1537c06dc57"
      },
      "source": [
        "set_seed(12)\n",
        "bert_classifier, optimizer, scheduler = initialize_model(epochs = 2)\n",
        "train(bert_classifier, train_dataloader, validation_dataloader, epochs = 2, evaluation = True)"
      ],
      "execution_count": 22,
      "outputs": [
        {
          "output_type": "stream",
          "name": "stderr",
          "text": [
            "Some weights of the model checkpoint at bert-base-uncased were not used when initializing BertModel: ['cls.predictions.decoder.weight', 'cls.seq_relationship.weight', 'cls.seq_relationship.bias', 'cls.predictions.transform.LayerNorm.bias', 'cls.predictions.bias', 'cls.predictions.transform.dense.bias', 'cls.predictions.transform.dense.weight', 'cls.predictions.transform.LayerNorm.weight']\n",
            "- This IS expected if you are initializing BertModel from the checkpoint of a model trained on another task or with another architecture (e.g. initializing a BertForSequenceClassification model from a BertForPreTraining model).\n",
            "- This IS NOT expected if you are initializing BertModel from the checkpoint of a model that you expect to be exactly identical (initializing a BertForSequenceClassification model from a BertForSequenceClassification model).\n"
          ]
        },
        {
          "output_type": "stream",
          "name": "stdout",
          "text": [
            "Start training...\n",
            "\n",
            " Epoch  |  Batch  |  Train Loss  |  Val Loss  |  Val Acc  |  Elapsed \n",
            "----------------------------------------------------------------------\n",
            "   1    |   100   |   0.663651   |     -      |     -     |  232.63  \n",
            "   1    |   200   |   0.595964   |     -      |     -     |  229.85  \n",
            "   1    |   300   |   0.533896   |     -      |     -     |  229.92  \n",
            "   1    |   400   |   0.484266   |     -      |     -     |  229.94  \n",
            "   1    |   500   |   0.460427   |     -      |     -     |  229.87  \n",
            "   1    |   600   |   0.440394   |     -      |     -     |  229.92  \n",
            "   1    |   700   |   0.448185   |     -      |     -     |  229.93  \n",
            "   1    |   800   |   0.409847   |     -      |     -     |  229.92  \n",
            "   1    |   900   |   0.394023   |     -      |     -     |  229.82  \n",
            "   1    |  1000   |   0.392792   |     -      |     -     |  229.91  \n",
            "   1    |  1100   |   0.403653   |     -      |     -     |  229.91  \n",
            "   1    |  1200   |   0.386023   |     -      |     -     |  230.02  \n",
            "   1    |  1300   |   0.381836   |     -      |     -     |  229.99  \n",
            "   1    |  1400   |   0.387606   |     -      |     -     |  230.04  \n",
            "   1    |  1500   |   0.376081   |     -      |     -     |  230.12  \n",
            "   1    |  1536   |   0.397705   |     -      |     -     |   81.19  \n",
            "----------------------------------------------------------------------\n",
            "   1    |    -    |   0.449476   |  0.382046  |   83.53   |  4379.53 \n",
            "----------------------------------------------------------------------\n",
            "\n",
            "\n",
            " Epoch  |  Batch  |  Train Loss  |  Val Loss  |  Val Acc  |  Elapsed \n",
            "----------------------------------------------------------------------\n",
            "   2    |   100   |   0.371968   |     -      |     -     |  234.12  \n",
            "   2    |   200   |   0.373540   |     -      |     -     |  231.84  \n",
            "   2    |   300   |   0.392692   |     -      |     -     |  231.82  \n",
            "   2    |   400   |   0.403192   |     -      |     -     |  231.69  \n",
            "   2    |   500   |   0.364983   |     -      |     -     |  231.66  \n",
            "   2    |   600   |   0.369717   |     -      |     -     |  231.74  \n",
            "   2    |   700   |   0.374142   |     -      |     -     |  231.66  \n",
            "   2    |   800   |   0.374487   |     -      |     -     |  231.65  \n",
            "   2    |   900   |   0.354670   |     -      |     -     |  231.57  \n",
            "   2    |  1000   |   0.388424   |     -      |     -     |  231.19  \n",
            "   2    |  1100   |   0.376674   |     -      |     -     |  231.16  \n",
            "   2    |  1200   |   0.368682   |     -      |     -     |  231.26  \n",
            "   2    |  1300   |   0.379349   |     -      |     -     |  231.35  \n",
            "   2    |  1400   |   0.380654   |     -      |     -     |  231.46  \n",
            "   2    |  1500   |   0.370485   |     -      |     -     |  231.67  \n",
            "   2    |  1536   |   0.367142   |     -      |     -     |   81.74  \n",
            "----------------------------------------------------------------------\n",
            "   2    |    -    |   0.376028   |  0.369190  |   84.22   |  4408.72 \n",
            "----------------------------------------------------------------------\n",
            "\n",
            "\n",
            "Training complete!\n"
          ]
        }
      ]
    },
    {
      "cell_type": "markdown",
      "metadata": {
        "id": "q5XS_gd41NXw"
      },
      "source": [
        "# 4. Model Evaluation\n",
        "In this section, model is evaluated using the validation dataset and results are plotted in ROC curve."
      ]
    },
    {
      "cell_type": "code",
      "metadata": {
        "id": "3w6cXe6umNcH"
      },
      "source": [
        "import torch.nn.functional as F\n",
        "\n",
        "def bert_predict(model, test_dataloader):\n",
        "  model.eval()\n",
        "  all_logits = []\n",
        "\n",
        "  for batch in test_dataloader:\n",
        "    b_input_ids, b_attn_mask = tuple(t.to(device) for t in batch)[:2]\n",
        "\n",
        "    with torch.no_grad():\n",
        "      logits = model(b_input_ids, b_attn_mask)\n",
        "    all_logits.append(logits)\n",
        "  \n",
        "  #concatenate logits from each batch\n",
        "  all_logits = torch.cat(all_logits, dim = 0)\n",
        "\n",
        "  #apply softmax to calculate probabilities \n",
        "  probs = F.softmax(all_logits, dim = 1).cpu().numpy()\n",
        "  return probs"
      ],
      "execution_count": 28,
      "outputs": []
    },
    {
      "cell_type": "code",
      "metadata": {
        "id": "HBjj4lNdLpse"
      },
      "source": [
        "from sklearn.metrics import accuracy_score, roc_curve, auc\n",
        "import matplotlib.pyplot as plt\n",
        "def evaluate_roc(probs, y_true):\n",
        "  preds = probs[:, 1]\n",
        "  fpr, tpr, threshold = roc_curve(y_true, preds)\n",
        "  roc_auc = auc(fpr, tpr)\n",
        "  print (f'AUC: {roc_auc:.4f}')\n",
        "\n",
        "  y_pred = np.where(preds >= 0.5, 1, 0)\n",
        "  accuracy = accuracy_score(y_true, y_pred)\n",
        "  print (f'Accuracy: {accuracy*100:.2f}%')\n",
        "\n",
        "  #plot ROC AUC\n",
        "  plt.title('Receiver Operating Characteristic')\n",
        "  plt.plot(fpr, tpr, 'b', label = 'AUC = %0.2f' % roc_auc)\n",
        "  plt.legend(loc = 'lower right')\n",
        "  plt.plot([0, 1], [0, 1], 'r--')\n",
        "  plt.xlim([0, 1])\n",
        "  plt.ylim([0, 1])\n",
        "  plt.ylabel('True Positive Rate')\n",
        "  plt.xlabel('False Positive Rate')\n",
        "  plt.show()\n"
      ],
      "execution_count": 60,
      "outputs": []
    },
    {
      "cell_type": "code",
      "metadata": {
        "id": "t9LV2LwDLeU9"
      },
      "source": [
        "probs = bert_predict(bert_classifier, validation_dataloader)"
      ],
      "execution_count": 62,
      "outputs": []
    },
    {
      "cell_type": "code",
      "metadata": {
        "id": "8gPSi5EMj3Dz"
      },
      "source": [
        "y_val = []\n",
        "for i, item in enumerate(val_dataset):\n",
        "  _, _, label = item \n",
        "  y_val.append(label)"
      ],
      "execution_count": 63,
      "outputs": []
    },
    {
      "cell_type": "code",
      "metadata": {
        "colab": {
          "base_uri": "https://localhost:8080/",
          "height": 330
        },
        "id": "eG0b60d9q-95",
        "outputId": "43c54469-23f1-4db6-93fc-47f9a42eb685"
      },
      "source": [
        "evaluate_roc(probs, y_val)"
      ],
      "execution_count": 64,
      "outputs": [
        {
          "output_type": "stream",
          "name": "stdout",
          "text": [
            "AUC: 0.9118\n",
            "Accuracy: 84.26%\n"
          ]
        },
        {
          "output_type": "display_data",
          "data": {
            "image/png": "[encoded data removed]",
            "text/plain": [
              "<Figure size 432x288 with 1 Axes>"
            ]
          },
          "metadata": {
            "needs_background": "light"
          }
        }
      ]
    },
    {
      "cell_type": "code",
      "metadata": {
        "id": "laSC9pfS3h5R"
      },
      "source": [
        ""
      ],
      "execution_count": null,
      "outputs": []
    }
  ]
}